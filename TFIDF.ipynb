{
 "cells": [
  {
   "cell_type": "code",
   "execution_count": 1,
   "metadata": {},
   "outputs": [],
   "source": [
    "docA = \"When Antony saw that Julius Caesar lay dead\"\n",
    "docB = \"The world saw the demise of Julius Caesar\"\n",
    "docC = \"Antony saw Julius Caesar lay dead\"\n",
    "docD = \"It was him my cat\""
   ]
  },
  {
   "cell_type": "code",
   "execution_count": 2,
   "metadata": {},
   "outputs": [],
   "source": [
    "from nltk.tokenize import TreebankWordTokenizer\n",
    "from nltk.corpus import stopwords \n",
    "stop_words = set(stopwords.words('english'))\n",
    "\n",
    "bowA = TreebankWordTokenizer().tokenize(docA)\n",
    "bowB = TreebankWordTokenizer().tokenize(docB)\n",
    "bowC = TreebankWordTokenizer().tokenize(docC)\n",
    "\n",
    "nbowA = []\n",
    "nbowB = []\n",
    "nbowC = []\n",
    "\n",
    "nbowD = docD.split(\" \")\n",
    "\n",
    "for i,j,k in zip(bowA,bowB,bowC): \n",
    "    if i not in stop_words: \n",
    "        nbowA.append(i) \n",
    "    if j not in stop_words: \n",
    "        nbowB.append(j) \n",
    "    if k not in stop_words: \n",
    "        nbowC.append(k) "
   ]
  },
  {
   "cell_type": "code",
   "execution_count": 3,
   "metadata": {},
   "outputs": [],
   "source": [
    "wordSet = set(nbowA).union(set(nbowB)).union(set(nbowC)).union(set(nbowD))"
   ]
  },
  {
   "cell_type": "code",
   "execution_count": 4,
   "metadata": {},
   "outputs": [
    {
     "data": {
      "text/plain": [
       "{'Antony',\n",
       " 'Caesar',\n",
       " 'It',\n",
       " 'Julius',\n",
       " 'The',\n",
       " 'When',\n",
       " 'cat',\n",
       " 'dead',\n",
       " 'demise',\n",
       " 'him',\n",
       " 'lay',\n",
       " 'my',\n",
       " 'saw',\n",
       " 'was',\n",
       " 'world'}"
      ]
     },
     "execution_count": 4,
     "metadata": {},
     "output_type": "execute_result"
    }
   ],
   "source": [
    "wordSet"
   ]
  },
  {
   "cell_type": "code",
   "execution_count": 5,
   "metadata": {},
   "outputs": [],
   "source": [
    "wordDictA = dict.fromkeys(wordSet, 0) \n",
    "wordDictB = dict.fromkeys(wordSet, 0) \n",
    "wordDictC = dict.fromkeys(wordSet, 0) \n",
    "wordDictD = dict.fromkeys(wordSet, 0) "
   ]
  },
  {
   "cell_type": "code",
   "execution_count": 6,
   "metadata": {},
   "outputs": [],
   "source": [
    "for word in nbowA:\n",
    "    wordDictA[word]+=1\n",
    "    \n",
    "for word in nbowB:\n",
    "    wordDictB[word]+=1\n",
    "\n",
    "for word in nbowC:\n",
    "    wordDictC[word]+=1\n",
    "    \n",
    "for word in nbowD:\n",
    "    wordDictD[word]+=1"
   ]
  },
  {
   "cell_type": "code",
   "execution_count": 7,
   "metadata": {},
   "outputs": [
    {
     "name": "stdout",
     "output_type": "stream",
     "text": [
      "{'was': 0, 'Julius': 1, 'Antony': 1, 'dead': 0, 'When': 1, 'world': 0, 'lay': 0, 'my': 0, 'saw': 1, 'demise': 0, 'The': 0, 'him': 0, 'It': 0, 'cat': 0, 'Caesar': 1}\n",
      "{'was': 0, 'Julius': 0, 'Antony': 0, 'dead': 0, 'When': 0, 'world': 1, 'lay': 0, 'my': 0, 'saw': 1, 'demise': 1, 'The': 1, 'him': 0, 'It': 0, 'cat': 0, 'Caesar': 0}\n",
      "{'was': 0, 'Julius': 1, 'Antony': 1, 'dead': 1, 'When': 0, 'world': 0, 'lay': 1, 'my': 0, 'saw': 1, 'demise': 0, 'The': 0, 'him': 0, 'It': 0, 'cat': 0, 'Caesar': 1}\n",
      "{'was': 1, 'Julius': 0, 'Antony': 0, 'dead': 0, 'When': 0, 'world': 0, 'lay': 0, 'my': 1, 'saw': 0, 'demise': 0, 'The': 0, 'him': 1, 'It': 1, 'cat': 1, 'Caesar': 0}\n"
     ]
    }
   ],
   "source": [
    "print(wordDictA)\n",
    "print(wordDictB)\n",
    "print(wordDictC)\n",
    "print(wordDictD)"
   ]
  },
  {
   "cell_type": "code",
   "execution_count": 8,
   "metadata": {},
   "outputs": [
    {
     "data": {
      "text/html": [
       "<div>\n",
       "<style scoped>\n",
       "    .dataframe tbody tr th:only-of-type {\n",
       "        vertical-align: middle;\n",
       "    }\n",
       "\n",
       "    .dataframe tbody tr th {\n",
       "        vertical-align: top;\n",
       "    }\n",
       "\n",
       "    .dataframe thead th {\n",
       "        text-align: right;\n",
       "    }\n",
       "</style>\n",
       "<table border=\"1\" class=\"dataframe\">\n",
       "  <thead>\n",
       "    <tr style=\"text-align: right;\">\n",
       "      <th></th>\n",
       "      <th>Antony</th>\n",
       "      <th>Caesar</th>\n",
       "      <th>It</th>\n",
       "      <th>Julius</th>\n",
       "      <th>The</th>\n",
       "      <th>When</th>\n",
       "      <th>cat</th>\n",
       "      <th>dead</th>\n",
       "      <th>demise</th>\n",
       "      <th>him</th>\n",
       "      <th>lay</th>\n",
       "      <th>my</th>\n",
       "      <th>saw</th>\n",
       "      <th>was</th>\n",
       "      <th>world</th>\n",
       "    </tr>\n",
       "  </thead>\n",
       "  <tbody>\n",
       "    <tr>\n",
       "      <th>0</th>\n",
       "      <td>1</td>\n",
       "      <td>1</td>\n",
       "      <td>0</td>\n",
       "      <td>1</td>\n",
       "      <td>0</td>\n",
       "      <td>1</td>\n",
       "      <td>0</td>\n",
       "      <td>0</td>\n",
       "      <td>0</td>\n",
       "      <td>0</td>\n",
       "      <td>0</td>\n",
       "      <td>0</td>\n",
       "      <td>1</td>\n",
       "      <td>0</td>\n",
       "      <td>0</td>\n",
       "    </tr>\n",
       "    <tr>\n",
       "      <th>1</th>\n",
       "      <td>0</td>\n",
       "      <td>0</td>\n",
       "      <td>0</td>\n",
       "      <td>0</td>\n",
       "      <td>1</td>\n",
       "      <td>0</td>\n",
       "      <td>0</td>\n",
       "      <td>0</td>\n",
       "      <td>1</td>\n",
       "      <td>0</td>\n",
       "      <td>0</td>\n",
       "      <td>0</td>\n",
       "      <td>1</td>\n",
       "      <td>0</td>\n",
       "      <td>1</td>\n",
       "    </tr>\n",
       "    <tr>\n",
       "      <th>2</th>\n",
       "      <td>1</td>\n",
       "      <td>1</td>\n",
       "      <td>0</td>\n",
       "      <td>1</td>\n",
       "      <td>0</td>\n",
       "      <td>0</td>\n",
       "      <td>0</td>\n",
       "      <td>1</td>\n",
       "      <td>0</td>\n",
       "      <td>0</td>\n",
       "      <td>1</td>\n",
       "      <td>0</td>\n",
       "      <td>1</td>\n",
       "      <td>0</td>\n",
       "      <td>0</td>\n",
       "    </tr>\n",
       "    <tr>\n",
       "      <th>3</th>\n",
       "      <td>0</td>\n",
       "      <td>0</td>\n",
       "      <td>1</td>\n",
       "      <td>0</td>\n",
       "      <td>0</td>\n",
       "      <td>0</td>\n",
       "      <td>1</td>\n",
       "      <td>0</td>\n",
       "      <td>0</td>\n",
       "      <td>1</td>\n",
       "      <td>0</td>\n",
       "      <td>1</td>\n",
       "      <td>0</td>\n",
       "      <td>1</td>\n",
       "      <td>0</td>\n",
       "    </tr>\n",
       "  </tbody>\n",
       "</table>\n",
       "</div>"
      ],
      "text/plain": [
       "   Antony  Caesar  It  Julius  The  When  cat  dead  demise  him  lay  my  \\\n",
       "0       1       1   0       1    0     1    0     0       0    0    0   0   \n",
       "1       0       0   0       0    1     0    0     0       1    0    0   0   \n",
       "2       1       1   0       1    0     0    0     1       0    0    1   0   \n",
       "3       0       0   1       0    0     0    1     0       0    1    0   1   \n",
       "\n",
       "   saw  was  world  \n",
       "0    1    0      0  \n",
       "1    1    0      1  \n",
       "2    1    0      0  \n",
       "3    0    1      0  "
      ]
     },
     "execution_count": 8,
     "metadata": {},
     "output_type": "execute_result"
    }
   ],
   "source": [
    "import pandas as pd\n",
    "pd.DataFrame([wordDictA, wordDictB, wordDictC, wordDictD])"
   ]
  },
  {
   "cell_type": "code",
   "execution_count": 9,
   "metadata": {},
   "outputs": [],
   "source": [
    "def computeTF(wordDict, bow):\n",
    "    tfDict = {}\n",
    "    bowCount = len(bow)\n",
    "    for word, count in wordDict.items():\n",
    "        tfDict[word] = count/float(bowCount)\n",
    "    return tfDict"
   ]
  },
  {
   "cell_type": "code",
   "execution_count": 10,
   "metadata": {},
   "outputs": [],
   "source": [
    "tfBowA = computeTF(wordDictA, nbowA)\n",
    "tfBowB = computeTF(wordDictB, nbowB)\n",
    "tfBowC = computeTF(wordDictC, nbowC)\n",
    "tfBowD = computeTF(wordDictD, nbowD)"
   ]
  },
  {
   "cell_type": "code",
   "execution_count": 11,
   "metadata": {},
   "outputs": [
    {
     "data": {
      "text/plain": [
       "{'was': 0.0,\n",
       " 'Julius': 0.2,\n",
       " 'Antony': 0.2,\n",
       " 'dead': 0.0,\n",
       " 'When': 0.2,\n",
       " 'world': 0.0,\n",
       " 'lay': 0.0,\n",
       " 'my': 0.0,\n",
       " 'saw': 0.2,\n",
       " 'demise': 0.0,\n",
       " 'The': 0.0,\n",
       " 'him': 0.0,\n",
       " 'It': 0.0,\n",
       " 'cat': 0.0,\n",
       " 'Caesar': 0.2}"
      ]
     },
     "execution_count": 11,
     "metadata": {},
     "output_type": "execute_result"
    }
   ],
   "source": [
    "tfBowA"
   ]
  },
  {
   "cell_type": "code",
   "execution_count": 12,
   "metadata": {},
   "outputs": [
    {
     "data": {
      "text/plain": [
       "{'was': 0.0,\n",
       " 'Julius': 0.0,\n",
       " 'Antony': 0.0,\n",
       " 'dead': 0.0,\n",
       " 'When': 0.0,\n",
       " 'world': 0.25,\n",
       " 'lay': 0.0,\n",
       " 'my': 0.0,\n",
       " 'saw': 0.25,\n",
       " 'demise': 0.25,\n",
       " 'The': 0.25,\n",
       " 'him': 0.0,\n",
       " 'It': 0.0,\n",
       " 'cat': 0.0,\n",
       " 'Caesar': 0.0}"
      ]
     },
     "execution_count": 12,
     "metadata": {},
     "output_type": "execute_result"
    }
   ],
   "source": [
    "tfBowB"
   ]
  },
  {
   "cell_type": "code",
   "execution_count": 13,
   "metadata": {},
   "outputs": [
    {
     "data": {
      "text/plain": [
       "{'was': 0.0,\n",
       " 'Julius': 0.16666666666666666,\n",
       " 'Antony': 0.16666666666666666,\n",
       " 'dead': 0.16666666666666666,\n",
       " 'When': 0.0,\n",
       " 'world': 0.0,\n",
       " 'lay': 0.16666666666666666,\n",
       " 'my': 0.0,\n",
       " 'saw': 0.16666666666666666,\n",
       " 'demise': 0.0,\n",
       " 'The': 0.0,\n",
       " 'him': 0.0,\n",
       " 'It': 0.0,\n",
       " 'cat': 0.0,\n",
       " 'Caesar': 0.16666666666666666}"
      ]
     },
     "execution_count": 13,
     "metadata": {},
     "output_type": "execute_result"
    }
   ],
   "source": [
    "tfBowC"
   ]
  },
  {
   "cell_type": "code",
   "execution_count": 14,
   "metadata": {},
   "outputs": [
    {
     "data": {
      "text/plain": [
       "{'was': 0.2,\n",
       " 'Julius': 0.0,\n",
       " 'Antony': 0.0,\n",
       " 'dead': 0.0,\n",
       " 'When': 0.0,\n",
       " 'world': 0.0,\n",
       " 'lay': 0.0,\n",
       " 'my': 0.2,\n",
       " 'saw': 0.0,\n",
       " 'demise': 0.0,\n",
       " 'The': 0.0,\n",
       " 'him': 0.2,\n",
       " 'It': 0.2,\n",
       " 'cat': 0.2,\n",
       " 'Caesar': 0.0}"
      ]
     },
     "execution_count": 14,
     "metadata": {},
     "output_type": "execute_result"
    }
   ],
   "source": [
    "tfBowD"
   ]
  },
  {
   "cell_type": "code",
   "execution_count": 15,
   "metadata": {},
   "outputs": [],
   "source": [
    "def computeIDF(docList):\n",
    "    import math\n",
    "    idfDict = {}\n",
    "    N = len(docList)\n",
    "    \n",
    "    idfDict = dict.fromkeys(docList[0].keys(), 0)\n",
    "    for doc in docList:\n",
    "        for word, val in doc.items():\n",
    "            if val > 0:\n",
    "                idfDict[word] += 1\n",
    "    \n",
    "    for word, val in idfDict.items():\n",
    "        idfDict[word] = math.log10(N / float(val))\n",
    "        \n",
    "    return idfDict   "
   ]
  },
  {
   "cell_type": "code",
   "execution_count": 16,
   "metadata": {},
   "outputs": [],
   "source": [
    "idfs = computeIDF([wordDictA, wordDictB, wordDictC, wordDictD])"
   ]
  },
  {
   "cell_type": "code",
   "execution_count": 17,
   "metadata": {},
   "outputs": [],
   "source": [
    "def computeTFIDF(tfBow, idfs):\n",
    "    tfidf = {}\n",
    "    for word, val in tfBow.items():\n",
    "        tfidf[word] = val*idfs[word]\n",
    "    return tfidf"
   ]
  },
  {
   "cell_type": "code",
   "execution_count": 18,
   "metadata": {},
   "outputs": [],
   "source": [
    "tfidfBowA = computeTFIDF(tfBowA, idfs)\n",
    "tfidfBowB = computeTFIDF(tfBowB, idfs)\n",
    "tfidfBowC = computeTFIDF(tfBowC, idfs)\n",
    "tfidfBowD = computeTFIDF(tfBowD, idfs)"
   ]
  },
  {
   "cell_type": "code",
   "execution_count": 19,
   "metadata": {},
   "outputs": [],
   "source": [
    "import pandas as pd\n",
    "D = pd.DataFrame([tfidfBowA, tfidfBowB, tfidfBowC, tfidfBowD])"
   ]
  },
  {
   "cell_type": "code",
   "execution_count": 20,
   "metadata": {},
   "outputs": [
    {
     "data": {
      "text/html": [
       "<div>\n",
       "<style scoped>\n",
       "    .dataframe tbody tr th:only-of-type {\n",
       "        vertical-align: middle;\n",
       "    }\n",
       "\n",
       "    .dataframe tbody tr th {\n",
       "        vertical-align: top;\n",
       "    }\n",
       "\n",
       "    .dataframe thead th {\n",
       "        text-align: right;\n",
       "    }\n",
       "</style>\n",
       "<table border=\"1\" class=\"dataframe\">\n",
       "  <thead>\n",
       "    <tr style=\"text-align: right;\">\n",
       "      <th></th>\n",
       "      <th>Antony</th>\n",
       "      <th>Caesar</th>\n",
       "      <th>It</th>\n",
       "      <th>Julius</th>\n",
       "      <th>The</th>\n",
       "      <th>When</th>\n",
       "      <th>cat</th>\n",
       "      <th>dead</th>\n",
       "      <th>demise</th>\n",
       "      <th>him</th>\n",
       "      <th>lay</th>\n",
       "      <th>my</th>\n",
       "      <th>saw</th>\n",
       "      <th>was</th>\n",
       "      <th>world</th>\n",
       "    </tr>\n",
       "  </thead>\n",
       "  <tbody>\n",
       "    <tr>\n",
       "      <th>0</th>\n",
       "      <td>0.060206</td>\n",
       "      <td>0.060206</td>\n",
       "      <td>0.000000</td>\n",
       "      <td>0.060206</td>\n",
       "      <td>0.000000</td>\n",
       "      <td>0.120412</td>\n",
       "      <td>0.000000</td>\n",
       "      <td>0.000000</td>\n",
       "      <td>0.000000</td>\n",
       "      <td>0.000000</td>\n",
       "      <td>0.000000</td>\n",
       "      <td>0.000000</td>\n",
       "      <td>0.024988</td>\n",
       "      <td>0.000000</td>\n",
       "      <td>0.000000</td>\n",
       "    </tr>\n",
       "    <tr>\n",
       "      <th>1</th>\n",
       "      <td>0.000000</td>\n",
       "      <td>0.000000</td>\n",
       "      <td>0.000000</td>\n",
       "      <td>0.000000</td>\n",
       "      <td>0.150515</td>\n",
       "      <td>0.000000</td>\n",
       "      <td>0.000000</td>\n",
       "      <td>0.000000</td>\n",
       "      <td>0.150515</td>\n",
       "      <td>0.000000</td>\n",
       "      <td>0.000000</td>\n",
       "      <td>0.000000</td>\n",
       "      <td>0.031235</td>\n",
       "      <td>0.000000</td>\n",
       "      <td>0.150515</td>\n",
       "    </tr>\n",
       "    <tr>\n",
       "      <th>2</th>\n",
       "      <td>0.050172</td>\n",
       "      <td>0.050172</td>\n",
       "      <td>0.000000</td>\n",
       "      <td>0.050172</td>\n",
       "      <td>0.000000</td>\n",
       "      <td>0.000000</td>\n",
       "      <td>0.000000</td>\n",
       "      <td>0.100343</td>\n",
       "      <td>0.000000</td>\n",
       "      <td>0.000000</td>\n",
       "      <td>0.100343</td>\n",
       "      <td>0.000000</td>\n",
       "      <td>0.020823</td>\n",
       "      <td>0.000000</td>\n",
       "      <td>0.000000</td>\n",
       "    </tr>\n",
       "    <tr>\n",
       "      <th>3</th>\n",
       "      <td>0.000000</td>\n",
       "      <td>0.000000</td>\n",
       "      <td>0.120412</td>\n",
       "      <td>0.000000</td>\n",
       "      <td>0.000000</td>\n",
       "      <td>0.000000</td>\n",
       "      <td>0.120412</td>\n",
       "      <td>0.000000</td>\n",
       "      <td>0.000000</td>\n",
       "      <td>0.120412</td>\n",
       "      <td>0.000000</td>\n",
       "      <td>0.120412</td>\n",
       "      <td>0.000000</td>\n",
       "      <td>0.120412</td>\n",
       "      <td>0.000000</td>\n",
       "    </tr>\n",
       "  </tbody>\n",
       "</table>\n",
       "</div>"
      ],
      "text/plain": [
       "     Antony    Caesar        It    Julius       The      When       cat  \\\n",
       "0  0.060206  0.060206  0.000000  0.060206  0.000000  0.120412  0.000000   \n",
       "1  0.000000  0.000000  0.000000  0.000000  0.150515  0.000000  0.000000   \n",
       "2  0.050172  0.050172  0.000000  0.050172  0.000000  0.000000  0.000000   \n",
       "3  0.000000  0.000000  0.120412  0.000000  0.000000  0.000000  0.120412   \n",
       "\n",
       "       dead    demise       him       lay        my       saw       was  \\\n",
       "0  0.000000  0.000000  0.000000  0.000000  0.000000  0.024988  0.000000   \n",
       "1  0.000000  0.150515  0.000000  0.000000  0.000000  0.031235  0.000000   \n",
       "2  0.100343  0.000000  0.000000  0.100343  0.000000  0.020823  0.000000   \n",
       "3  0.000000  0.000000  0.120412  0.000000  0.120412  0.000000  0.120412   \n",
       "\n",
       "      world  \n",
       "0  0.000000  \n",
       "1  0.150515  \n",
       "2  0.000000  \n",
       "3  0.000000  "
      ]
     },
     "execution_count": 20,
     "metadata": {},
     "output_type": "execute_result"
    }
   ],
   "source": [
    "D"
   ]
  },
  {
   "cell_type": "code",
   "execution_count": 21,
   "metadata": {},
   "outputs": [],
   "source": [
    "A = list(D.iloc[0])\n",
    "B = list(D.iloc[1])\n",
    "C = list(D.iloc[2])\n",
    "D = list(D.iloc[3])"
   ]
  },
  {
   "cell_type": "code",
   "execution_count": 22,
   "metadata": {},
   "outputs": [],
   "source": [
    "from scipy import spatial\n",
    "\n",
    "result = 1 - spatial.distance.cosine(A,B)"
   ]
  },
  {
   "cell_type": "code",
   "execution_count": 23,
   "metadata": {},
   "outputs": [
    {
     "data": {
      "text/plain": [
       "0.018435768212138326"
      ]
     },
     "execution_count": 23,
     "metadata": {},
     "output_type": "execute_result"
    }
   ],
   "source": [
    "#Cosine Similarity between Doc A and B\n",
    "result"
   ]
  },
  {
   "cell_type": "code",
   "execution_count": 24,
   "metadata": {},
   "outputs": [
    {
     "data": {
      "text/plain": [
       "0.3543805745724091"
      ]
     },
     "execution_count": 24,
     "metadata": {},
     "output_type": "execute_result"
    }
   ],
   "source": [
    "#Cosine Similarity between Doc A and C\n",
    "result = 1 - spatial.distance.cosine(A,C)\n",
    "result"
   ]
  },
  {
   "cell_type": "code",
   "execution_count": 25,
   "metadata": {},
   "outputs": [
    {
     "data": {
      "text/plain": [
       "0.0"
      ]
     },
     "execution_count": 25,
     "metadata": {},
     "output_type": "execute_result"
    }
   ],
   "source": [
    "#Cosine Similarity between Doc A and D\n",
    "result = 1 - spatial.distance.cosine(A,D)\n",
    "result"
   ]
  },
  {
   "cell_type": "code",
   "execution_count": null,
   "metadata": {},
   "outputs": [],
   "source": []
  },
  {
   "cell_type": "code",
   "execution_count": null,
   "metadata": {},
   "outputs": [],
   "source": []
  }
 ],
 "metadata": {
  "kernelspec": {
   "display_name": "Python 3",
   "language": "python",
   "name": "python3"
  },
  "language_info": {
   "codemirror_mode": {
    "name": "ipython",
    "version": 3
   },
   "file_extension": ".py",
   "mimetype": "text/x-python",
   "name": "python",
   "nbconvert_exporter": "python",
   "pygments_lexer": "ipython3",
   "version": "3.6.5"
  }
 },
 "nbformat": 4,
 "nbformat_minor": 2
}
